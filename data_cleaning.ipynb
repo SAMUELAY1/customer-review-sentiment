{
 "cells": [
  {
   "cell_type": "code",
   "execution_count": 1,
   "id": "cca5282e-0d75-4215-9e0d-cf1a821128d5",
   "metadata": {},
   "outputs": [
    {
     "name": "stdout",
     "output_type": "stream",
     "text": [
      "Requirement already satisfied: openpyxl in /opt/anaconda3/lib/python3.12/site-packages (3.1.5)\n",
      "Requirement already satisfied: et-xmlfile in /opt/anaconda3/lib/python3.12/site-packages (from openpyxl) (1.1.0)\n"
     ]
    }
   ],
   "source": [
    "!pip install openpyxl"
   ]
  },
  {
   "cell_type": "code",
   "execution_count": 2,
   "id": "9f2473ad-d9a6-45ba-b2d8-9d5fa0b038b1",
   "metadata": {},
   "outputs": [],
   "source": [
    "import pandas as pd\n",
    "df= pd.read_excel(\"zappos_men.xlsx\",sheet_name=\"Sheet1\")"
   ]
  },
  {
   "cell_type": "code",
   "execution_count": 3,
   "id": "b1c1a28a-c1bc-4b33-9c29-6957f3834410",
   "metadata": {},
   "outputs": [
    {
     "data": {
      "text/html": [
       "<div>\n",
       "<style scoped>\n",
       "    .dataframe tbody tr th:only-of-type {\n",
       "        vertical-align: middle;\n",
       "    }\n",
       "\n",
       "    .dataframe tbody tr th {\n",
       "        vertical-align: top;\n",
       "    }\n",
       "\n",
       "    .dataframe thead th {\n",
       "        text-align: right;\n",
       "    }\n",
       "</style>\n",
       "<table border=\"1\" class=\"dataframe\">\n",
       "  <thead>\n",
       "    <tr style=\"text-align: right;\">\n",
       "      <th></th>\n",
       "      <th>BRAND</th>\n",
       "      <th>MODEL</th>\n",
       "      <th>PRICE</th>\n",
       "      <th>REVIEWS</th>\n",
       "      <th>DATE</th>\n",
       "      <th>NAMES</th>\n",
       "      <th>OVERALL_RATINGS</th>\n",
       "      <th>TRUE_TO_SIZE</th>\n",
       "      <th>TRUE_TO_WIDTH</th>\n",
       "    </tr>\n",
       "  </thead>\n",
       "  <tbody>\n",
       "    <tr>\n",
       "      <th>0</th>\n",
       "      <td>Hey Dude</td>\n",
       "      <td>Wally Linen Natural</td>\n",
       "      <td>64.99</td>\n",
       "      <td>Bought these for my son and he LOVES them!!! H...</td>\n",
       "      <td>November 13, 2024</td>\n",
       "      <td>BOBBI</td>\n",
       "      <td>5.0</td>\n",
       "      <td>0.01</td>\n",
       "      <td>0.005</td>\n",
       "    </tr>\n",
       "    <tr>\n",
       "      <th>1</th>\n",
       "      <td>Hey Dude</td>\n",
       "      <td>Wally Linen Natural</td>\n",
       "      <td>64.99</td>\n",
       "      <td>I get lots of compliments for these .</td>\n",
       "      <td>July 9, 2024</td>\n",
       "      <td>Jon</td>\n",
       "      <td>5.0</td>\n",
       "      <td>0.01</td>\n",
       "      <td>0.005</td>\n",
       "    </tr>\n",
       "    <tr>\n",
       "      <th>2</th>\n",
       "      <td>Hey Dude</td>\n",
       "      <td>Wally Linen Natural</td>\n",
       "      <td>64.99</td>\n",
       "      <td>I love my Dude's!</td>\n",
       "      <td>June 18, 2024</td>\n",
       "      <td>Annette</td>\n",
       "      <td>5.0</td>\n",
       "      <td>0.01</td>\n",
       "      <td>0.005</td>\n",
       "    </tr>\n",
       "    <tr>\n",
       "      <th>3</th>\n",
       "      <td>Hey Dude</td>\n",
       "      <td>Wally Linen Natural</td>\n",
       "      <td>64.99</td>\n",
       "      <td>Love these!!</td>\n",
       "      <td>May 24, 2024</td>\n",
       "      <td>Paege</td>\n",
       "      <td>5.0</td>\n",
       "      <td>0.01</td>\n",
       "      <td>0.005</td>\n",
       "    </tr>\n",
       "    <tr>\n",
       "      <th>4</th>\n",
       "      <td>Hey Dude</td>\n",
       "      <td>Wally Linen Natural</td>\n",
       "      <td>64.99</td>\n",
       "      <td>Probably my favorite</td>\n",
       "      <td>May 8, 2024</td>\n",
       "      <td>Jeana</td>\n",
       "      <td>5.0</td>\n",
       "      <td>0.01</td>\n",
       "      <td>0.005</td>\n",
       "    </tr>\n",
       "  </tbody>\n",
       "</table>\n",
       "</div>"
      ],
      "text/plain": [
       "      BRAND                MODEL  PRICE  \\\n",
       "0  Hey Dude  Wally Linen Natural  64.99   \n",
       "1  Hey Dude  Wally Linen Natural  64.99   \n",
       "2  Hey Dude  Wally Linen Natural  64.99   \n",
       "3  Hey Dude  Wally Linen Natural  64.99   \n",
       "4  Hey Dude  Wally Linen Natural  64.99   \n",
       "\n",
       "                                             REVIEWS               DATE  \\\n",
       "0  Bought these for my son and he LOVES them!!! H...  November 13, 2024   \n",
       "1              I get lots of compliments for these .       July 9, 2024   \n",
       "2                                  I love my Dude's!      June 18, 2024   \n",
       "3                                       Love these!!       May 24, 2024   \n",
       "4                               Probably my favorite        May 8, 2024   \n",
       "\n",
       "     NAMES  OVERALL_RATINGS  TRUE_TO_SIZE  TRUE_TO_WIDTH  \n",
       "0    BOBBI              5.0          0.01          0.005  \n",
       "1      Jon              5.0          0.01          0.005  \n",
       "2  Annette              5.0          0.01          0.005  \n",
       "3    Paege              5.0          0.01          0.005  \n",
       "4    Jeana              5.0          0.01          0.005  "
      ]
     },
     "execution_count": 3,
     "metadata": {},
     "output_type": "execute_result"
    }
   ],
   "source": [
    "df.head()"
   ]
  },
  {
   "cell_type": "code",
   "execution_count": 4,
   "id": "30b08efb-3f99-42bd-9661-9061de40302d",
   "metadata": {},
   "outputs": [
    {
     "name": "stdout",
     "output_type": "stream",
     "text": [
      "Requirement already satisfied: nltk in /opt/anaconda3/lib/python3.12/site-packages (3.9.1)\n",
      "Requirement already satisfied: click in /opt/anaconda3/lib/python3.12/site-packages (from nltk) (8.1.7)\n",
      "Requirement already satisfied: joblib in /opt/anaconda3/lib/python3.12/site-packages (from nltk) (1.4.2)\n",
      "Requirement already satisfied: regex>=2021.8.3 in /opt/anaconda3/lib/python3.12/site-packages (from nltk) (2024.9.11)\n",
      "Requirement already satisfied: tqdm in /opt/anaconda3/lib/python3.12/site-packages (from nltk) (4.66.5)\n"
     ]
    }
   ],
   "source": [
    "!pip install nltk"
   ]
  },
  {
   "cell_type": "code",
   "execution_count": 5,
   "id": "a1ac9401-40c0-4088-99ad-17861210fa52",
   "metadata": {},
   "outputs": [
    {
     "name": "stdout",
     "output_type": "stream",
     "text": [
      "['/Users/ay/nltk_data', '/opt/anaconda3/nltk_data', '/opt/anaconda3/share/nltk_data', '/opt/anaconda3/lib/nltk_data', '/usr/share/nltk_data', '/usr/local/share/nltk_data', '/usr/lib/nltk_data', '/usr/local/lib/nltk_data']\n"
     ]
    }
   ],
   "source": [
    "import nltk\n",
    "print(nltk.data.path)"
   ]
  },
  {
   "cell_type": "code",
   "execution_count": 6,
   "id": "941ea22f-6f35-4f80-9079-fe4f820567ba",
   "metadata": {},
   "outputs": [
    {
     "name": "stdout",
     "output_type": "stream",
     "text": [
      "Requirement already satisfied: nltk in /opt/anaconda3/lib/python3.12/site-packages (3.9.1)\n",
      "Requirement already satisfied: click in /opt/anaconda3/lib/python3.12/site-packages (from nltk) (8.1.7)\n",
      "Requirement already satisfied: joblib in /opt/anaconda3/lib/python3.12/site-packages (from nltk) (1.4.2)\n",
      "Requirement already satisfied: regex>=2021.8.3 in /opt/anaconda3/lib/python3.12/site-packages (from nltk) (2024.9.11)\n",
      "Requirement already satisfied: tqdm in /opt/anaconda3/lib/python3.12/site-packages (from nltk) (4.66.5)\n",
      "Note: you may need to restart the kernel to use updated packages.\n"
     ]
    }
   ],
   "source": [
    "pip install --upgrade nltk\n"
   ]
  },
  {
   "cell_type": "code",
   "execution_count": 8,
   "id": "ca3d37ba-cec2-4e69-8173-668f44224a6d",
   "metadata": {},
   "outputs": [
    {
     "name": "stdout",
     "output_type": "stream",
     "text": [
      "['/Users/ay/nltk_data', '/opt/anaconda3/nltk_data', '/opt/anaconda3/share/nltk_data', '/opt/anaconda3/lib/nltk_data', '/usr/share/nltk_data', '/usr/local/share/nltk_data', '/usr/lib/nltk_data', '/usr/local/lib/nltk_data']\n"
     ]
    }
   ],
   "source": [
    "print(nltk.data.path)"
   ]
  },
  {
   "cell_type": "code",
   "execution_count": 9,
   "id": "99e6febf-1e15-431d-84a1-00f13064dde9",
   "metadata": {},
   "outputs": [
    {
     "name": "stderr",
     "output_type": "stream",
     "text": [
      "[nltk_data] Downloading package punkt_tab to /Users/ay/nltk_data...\n",
      "[nltk_data]   Package punkt_tab is already up-to-date!\n"
     ]
    },
    {
     "data": {
      "text/plain": [
       "True"
      ]
     },
     "execution_count": 9,
     "metadata": {},
     "output_type": "execute_result"
    }
   ],
   "source": [
    "import nltk\n",
    "nltk.download('punkt_tab', download_dir='/Users/ay/nltk_data')"
   ]
  },
  {
   "cell_type": "code",
   "execution_count": 10,
   "id": "c974ed1a-fbd4-438b-bffd-6e76e1030a22",
   "metadata": {},
   "outputs": [
    {
     "name": "stdout",
     "output_type": "stream",
     "text": [
      "['/Users/ay/nltk_data', '/opt/anaconda3/nltk_data', '/opt/anaconda3/share/nltk_data', '/opt/anaconda3/lib/nltk_data', '/usr/share/nltk_data', '/usr/local/share/nltk_data', '/usr/lib/nltk_data', '/usr/local/lib/nltk_data', '/Users/ay/nltk_data']\n"
     ]
    }
   ],
   "source": [
    "nltk.data.path.append('/Users/ay/nltk_data')\n",
    "print(nltk.data.path)  "
   ]
  },
  {
   "cell_type": "code",
   "execution_count": 11,
   "id": "e6883d52-7f16-46fd-87c2-c1a134a61a18",
   "metadata": {},
   "outputs": [
    {
     "name": "stderr",
     "output_type": "stream",
     "text": [
      "[nltk_data] Downloading package punkt to /Users/ay/nltk_data...\n",
      "[nltk_data]   Unzipping tokenizers/punkt.zip.\n",
      "[nltk_data] Downloading package stopwords to /Users/ay/nltk_data...\n",
      "[nltk_data]   Unzipping corpora/stopwords.zip.\n"
     ]
    },
    {
     "name": "stdout",
     "output_type": "stream",
     "text": [
      "NLTK data paths: ['/Users/ay/nltk_data', '/opt/anaconda3/nltk_data', '/opt/anaconda3/share/nltk_data', '/opt/anaconda3/lib/nltk_data', '/usr/share/nltk_data', '/usr/local/share/nltk_data', '/usr/lib/nltk_data', '/usr/local/lib/nltk_data', '/Users/ay/nltk_data']\n",
      "                                             REVIEWS  \\\n",
      "0  Bought these for my son and he LOVES them!!! H...   \n",
      "1              I get lots of compliments for these .   \n",
      "2                                  I love my Dude's!   \n",
      "3                                       Love these!!   \n",
      "4                               Probably my favorite   \n",
      "\n",
      "                                   processed_reviews  \n",
      "0  bought son love wear almost everi day definit ...  \n",
      "1                                 get lot compliment  \n",
      "2                                          love dude  \n",
      "3                                               love  \n",
      "4                                    probabl favorit  \n"
     ]
    }
   ],
   "source": [
    "import pandas as pd\n",
    "import re\n",
    "import nltk\n",
    "from nltk.tokenize import word_tokenize\n",
    "from nltk.corpus import stopwords\n",
    "from nltk.stem import PorterStemmer\n",
    "\n",
    "# Force re-download of the required NLTK data\n",
    "nltk.download('punkt', force=True)\n",
    "nltk.download('stopwords', force=True)\n",
    "\n",
    "# Print out the NLTK data paths to verify correct directories are used\n",
    "print(\"NLTK data paths:\", nltk.data.path)\n",
    "\n",
    "def preprocess_text(text):\n",
    "    if not isinstance(text, str):\n",
    "        return \"\"\n",
    "    \n",
    "    \n",
    "    # Convert to lowercase\n",
    "    text = text.lower()\n",
    "    \n",
    "    # Remove punctuation and special characters\n",
    "    text = re.sub(r'[^a-zA-Z0-9\\s]', '', text)\n",
    "    \n",
    "    # Tokenization using the correct 'punkt' resource\n",
    "    tokens = word_tokenize(text)\n",
    "    \n",
    "    # Remove stopwords\n",
    "    stop_words = set(stopwords.words('english'))\n",
    "    filtered_tokens = [word for word in tokens if word not in stop_words]\n",
    "    \n",
    "    # Stemming (Porter Stemmer)\n",
    "    stemmer = PorterStemmer()\n",
    "    stemmed_tokens = [stemmer.stem(word) for word in filtered_tokens]\n",
    "    \n",
    "    return ' '.join(stemmed_tokens)  # Return cleaned text as a string\n",
    "\n",
    "# Read the Excel file from the specified sheet\n",
    "df = pd.read_excel(\"zappos_men.xlsx\", sheet_name=\"Sheet1\")\n",
    "\n",
    "# Apply the preprocess_text function to the 'REVIEWS' column\n",
    "df['processed_reviews'] = df['REVIEWS'].apply(preprocess_text)\n",
    "\n",
    "# Display the first few rows to verify the changes\n",
    "print(df[['REVIEWS', 'processed_reviews']].head())"
   ]
  },
  {
   "cell_type": "code",
   "execution_count": 12,
   "id": "a5c87a81-57f5-4793-8248-bd278e31cd2c",
   "metadata": {},
   "outputs": [
    {
     "name": "stdout",
     "output_type": "stream",
     "text": [
      "      BRAND                MODEL  PRICE  \\\n",
      "0  Hey Dude  Wally Linen Natural  64.99   \n",
      "1  Hey Dude  Wally Linen Natural  64.99   \n",
      "2  Hey Dude  Wally Linen Natural  64.99   \n",
      "3  Hey Dude  Wally Linen Natural  64.99   \n",
      "4  Hey Dude  Wally Linen Natural  64.99   \n",
      "\n",
      "                                             REVIEWS               DATE  \\\n",
      "0  Bought these for my son and he LOVES them!!! H...  November 13, 2024   \n",
      "1              I get lots of compliments for these .       July 9, 2024   \n",
      "2                                  I love my Dude's!      June 18, 2024   \n",
      "3                                       Love these!!       May 24, 2024   \n",
      "4                               Probably my favorite        May 8, 2024   \n",
      "\n",
      "     NAMES  OVERALL_RATINGS  TRUE_TO_SIZE  TRUE_TO_WIDTH  \\\n",
      "0    BOBBI              5.0          0.01          0.005   \n",
      "1      Jon              5.0          0.01          0.005   \n",
      "2  Annette              5.0          0.01          0.005   \n",
      "3    Paege              5.0          0.01          0.005   \n",
      "4    Jeana              5.0          0.01          0.005   \n",
      "\n",
      "                                   processed_reviews  \n",
      "0  bought son love wear almost everi day definit ...  \n",
      "1                                 get lot compliment  \n",
      "2                                          love dude  \n",
      "3                                               love  \n",
      "4                                    probabl favorit  \n"
     ]
    }
   ],
   "source": [
    "def process_reviews(df):\n",
    "    df['processed_reviews'] = df['REVIEWS'].apply(preprocess_text)\n",
    "    return df\n",
    "\n",
    "# Use the function\n",
    "processed_df = process_reviews(df)\n",
    "print(processed_df.head())\n"
   ]
  },
  {
   "cell_type": "code",
   "execution_count": 13,
   "id": "f7306c66-6946-437c-a941-1c37069ddd22",
   "metadata": {},
   "outputs": [],
   "source": [
    "# dropping all null values \n",
    "df.dropna(inplace=True)\n",
    "\n",
    "\n",
    "# dropping columns \n",
    "df.drop(columns=['REVIEWS'], inplace=True)\n",
    "\n",
    "#reset index \n",
    "df.reset_index(drop =True, inplace=True)"
   ]
  },
  {
   "cell_type": "code",
   "execution_count": 14,
   "id": "be706b41-e0fc-4f92-97d7-1a2719ecc788",
   "metadata": {},
   "outputs": [],
   "source": [
    "# splitting the name columns to drop \"zappos customer\"\n",
    "df['NAME'] = df['NAMES'].str.replace(r', Zappos Customer', '', regex=True).str.strip()"
   ]
  },
  {
   "cell_type": "code",
   "execution_count": 15,
   "id": "29b68b45-487e-44f0-aa53-f2e352f234ad",
   "metadata": {},
   "outputs": [],
   "source": [
    "# convert price column to float \n",
    "df['PRICE'] = pd.to_numeric(df['PRICE'], errors='coerce')\n"
   ]
  },
  {
   "cell_type": "code",
   "execution_count": 16,
   "id": "688eb772-eea9-425c-b817-d5536e044fe0",
   "metadata": {},
   "outputs": [
    {
     "data": {
      "text/plain": [
       "2293"
      ]
     },
     "execution_count": 16,
     "metadata": {},
     "output_type": "execute_result"
    }
   ],
   "source": [
    "len(df)"
   ]
  },
  {
   "cell_type": "code",
   "execution_count": 17,
   "id": "4e441380-c241-4b60-9b11-ba1a0b94b3c2",
   "metadata": {},
   "outputs": [
    {
     "data": {
      "text/html": [
       "<div>\n",
       "<style scoped>\n",
       "    .dataframe tbody tr th:only-of-type {\n",
       "        vertical-align: middle;\n",
       "    }\n",
       "\n",
       "    .dataframe tbody tr th {\n",
       "        vertical-align: top;\n",
       "    }\n",
       "\n",
       "    .dataframe thead th {\n",
       "        text-align: right;\n",
       "    }\n",
       "</style>\n",
       "<table border=\"1\" class=\"dataframe\">\n",
       "  <thead>\n",
       "    <tr style=\"text-align: right;\">\n",
       "      <th></th>\n",
       "      <th>BRAND</th>\n",
       "      <th>MODEL</th>\n",
       "      <th>PRICE</th>\n",
       "      <th>DATE</th>\n",
       "      <th>NAMES</th>\n",
       "      <th>OVERALL_RATINGS</th>\n",
       "      <th>TRUE_TO_SIZE</th>\n",
       "      <th>TRUE_TO_WIDTH</th>\n",
       "      <th>processed_reviews</th>\n",
       "      <th>NAME</th>\n",
       "    </tr>\n",
       "  </thead>\n",
       "  <tbody>\n",
       "    <tr>\n",
       "      <th>0</th>\n",
       "      <td>Hey Dude</td>\n",
       "      <td>Wally Linen Natural</td>\n",
       "      <td>64.99</td>\n",
       "      <td>November 13, 2024</td>\n",
       "      <td>BOBBI</td>\n",
       "      <td>5.0</td>\n",
       "      <td>0.01</td>\n",
       "      <td>0.005</td>\n",
       "      <td>bought son love wear almost everi day definit ...</td>\n",
       "      <td>BOBBI</td>\n",
       "    </tr>\n",
       "    <tr>\n",
       "      <th>1</th>\n",
       "      <td>Hey Dude</td>\n",
       "      <td>Wally Linen Natural</td>\n",
       "      <td>64.99</td>\n",
       "      <td>July 9, 2024</td>\n",
       "      <td>Jon</td>\n",
       "      <td>5.0</td>\n",
       "      <td>0.01</td>\n",
       "      <td>0.005</td>\n",
       "      <td>get lot compliment</td>\n",
       "      <td>Jon</td>\n",
       "    </tr>\n",
       "    <tr>\n",
       "      <th>2</th>\n",
       "      <td>Hey Dude</td>\n",
       "      <td>Wally Linen Natural</td>\n",
       "      <td>64.99</td>\n",
       "      <td>June 18, 2024</td>\n",
       "      <td>Annette</td>\n",
       "      <td>5.0</td>\n",
       "      <td>0.01</td>\n",
       "      <td>0.005</td>\n",
       "      <td>love dude</td>\n",
       "      <td>Annette</td>\n",
       "    </tr>\n",
       "    <tr>\n",
       "      <th>3</th>\n",
       "      <td>Hey Dude</td>\n",
       "      <td>Wally Linen Natural</td>\n",
       "      <td>64.99</td>\n",
       "      <td>May 24, 2024</td>\n",
       "      <td>Paege</td>\n",
       "      <td>5.0</td>\n",
       "      <td>0.01</td>\n",
       "      <td>0.005</td>\n",
       "      <td>love</td>\n",
       "      <td>Paege</td>\n",
       "    </tr>\n",
       "    <tr>\n",
       "      <th>4</th>\n",
       "      <td>Hey Dude</td>\n",
       "      <td>Wally Linen Natural</td>\n",
       "      <td>64.99</td>\n",
       "      <td>May 8, 2024</td>\n",
       "      <td>Jeana</td>\n",
       "      <td>5.0</td>\n",
       "      <td>0.01</td>\n",
       "      <td>0.005</td>\n",
       "      <td>probabl favorit</td>\n",
       "      <td>Jeana</td>\n",
       "    </tr>\n",
       "  </tbody>\n",
       "</table>\n",
       "</div>"
      ],
      "text/plain": [
       "      BRAND                MODEL  PRICE               DATE    NAMES  \\\n",
       "0  Hey Dude  Wally Linen Natural  64.99  November 13, 2024    BOBBI   \n",
       "1  Hey Dude  Wally Linen Natural  64.99       July 9, 2024      Jon   \n",
       "2  Hey Dude  Wally Linen Natural  64.99      June 18, 2024  Annette   \n",
       "3  Hey Dude  Wally Linen Natural  64.99       May 24, 2024    Paege   \n",
       "4  Hey Dude  Wally Linen Natural  64.99        May 8, 2024    Jeana   \n",
       "\n",
       "   OVERALL_RATINGS  TRUE_TO_SIZE  TRUE_TO_WIDTH  \\\n",
       "0              5.0          0.01          0.005   \n",
       "1              5.0          0.01          0.005   \n",
       "2              5.0          0.01          0.005   \n",
       "3              5.0          0.01          0.005   \n",
       "4              5.0          0.01          0.005   \n",
       "\n",
       "                                   processed_reviews     NAME  \n",
       "0  bought son love wear almost everi day definit ...    BOBBI  \n",
       "1                                 get lot compliment      Jon  \n",
       "2                                          love dude  Annette  \n",
       "3                                               love    Paege  \n",
       "4                                    probabl favorit    Jeana  "
      ]
     },
     "execution_count": 17,
     "metadata": {},
     "output_type": "execute_result"
    }
   ],
   "source": [
    "df.head()"
   ]
  },
  {
   "cell_type": "code",
   "execution_count": 18,
   "id": "61d8ec03-5af6-47ae-8f28-eb6cb3da18dc",
   "metadata": {},
   "outputs": [
    {
     "name": "stdout",
     "output_type": "stream",
     "text": [
      "File saved successfully!\n"
     ]
    }
   ],
   "source": [
    "df.to_excel(\"processed_reviews.xlsx\", index=False)\n",
    "\n",
    "print(\"File saved successfully!\")"
   ]
  },
  {
   "cell_type": "code",
   "execution_count": null,
   "id": "224f86ba-6b4f-4eea-942e-4b6735123af6",
   "metadata": {},
   "outputs": [],
   "source": []
  }
 ],
 "metadata": {
  "kernelspec": {
   "display_name": "Python 3 (ipykernel)",
   "language": "python",
   "name": "python3"
  },
  "language_info": {
   "codemirror_mode": {
    "name": "ipython",
    "version": 3
   },
   "file_extension": ".py",
   "mimetype": "text/x-python",
   "name": "python",
   "nbconvert_exporter": "python",
   "pygments_lexer": "ipython3",
   "version": "3.12.7"
  }
 },
 "nbformat": 4,
 "nbformat_minor": 5
}
